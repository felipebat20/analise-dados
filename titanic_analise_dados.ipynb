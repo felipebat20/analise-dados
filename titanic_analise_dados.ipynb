{
  "nbformat": 4,
  "nbformat_minor": 0,
  "metadata": {
    "kernelspec": {
      "display_name": "Python 3",
      "language": "python",
      "name": "python3"
    },
    "language_info": {
      "codemirror_mode": {
        "name": "ipython",
        "version": 3
      },
      "file_extension": ".py",
      "mimetype": "text/x-python",
      "name": "python",
      "nbconvert_exporter": "python",
      "pygments_lexer": "ipython3",
      "version": "3.7.4"
    },
    "colab": {
      "name": "titanic_análise_exploratória.ipynb",
      "provenance": [],
      "collapsed_sections": []
    }
  },
  "cells": [
    {
      "cell_type": "markdown",
      "metadata": {
        "id": "iKEkSlqUbEPZ"
      },
      "source": [
        "# Análise de Dados Exploratória do Titanic\n",
        "\n",
        "![titanic](img/titanic_historical.jpg \"Pintura do Titanic\")"
      ]
    },
    {
      "cell_type": "markdown",
      "metadata": {
        "id": "RfSJuhfgbEPl"
      },
      "source": [
        "# 1. Introdução\n",
        "\n",
        "O RMS Titanic foi um navio de passageiros britânico operado pela empresa *White Star Line* que afundou no Oceano Atlântico Norte nas primeiras horas da manhã de 15 de abril de 1912, depois de atingir um iceberg durante sua viagem inaugural de Southampton a Nova York. Dos 2.224 passageiros e tripulantes a bordo, mais de 1.500 morreram, tornando o naufrágio um dos desastres marítimos comerciais mais mortais da história moderna em tempos de paz.\n",
        "\n",
        "Neste estudo iremos explorar um conjunto de dados baseado na lista de passageiros do Titanic editada por Michael A. Findlay, publicada originalmente em Eaton & Haas (1994) Titanic: Triumph and Tragedy, Patrick Stephens Ltd, e expandida com a ajuda da comunidade da Internet. Os arquivos HTML originais foram obtidos por Philip Hind (1999) e o *dataset* descreve o status de sobrevivência de passageiros individuais no Titanic. Ele não contém informações para a tripulação, mas contém idades atuais e estimadas para quase 80% dos passageiros."
      ]
    },
    {
      "cell_type": "markdown",
      "metadata": {
        "id": "x74iwEwJbEPn"
      },
      "source": [
        "## 1.1. Objetivos\n",
        "\n",
        "O objetivo deste estudo é realizar uma Análise Exploratória dos Dados (Exploratory Data Analysis - EDA) do conjunto de dados `titanic3`, adaptado pelo autor e disponível em [data/titanic3.csv](data/titanic.csv); a fim de caracterizar o perfil dos sobreviventes do fatídico naufrágio. Especificiamente serão respondidas as seguintes questões de pesquisa:\n",
        "\n",
        "1. [Qual é o número de Sobreviventes?](#3.1.-Qual-é-o-número-de-Sobreviventes?)\n",
        "2. [Homens ou mulheres tiveram mais chances de sobreviver?](#3.2.-Homens-ou-mulheres-tiveram-mais-chances-de-sobreviver?)\n",
        "3. [Qual classe social teve mais sobreviventes?](#3.3.-Qual-classe-social-teve-mais-sobreviventes?)\n",
        "4. [Qual faixa etária teve mais chances de sobreviver?](#3.4.-Qual-faixa-etária-teve-mais-chances-de-sobreviver?)\n"
      ]
    },
    {
      "cell_type": "markdown",
      "metadata": {
        "id": "CEMEHJbdbEPo"
      },
      "source": [
        "# 2. Metodologia\n",
        "\n",
        "Nesta seção será apresentado todo o processo de preparação, organização e limpeza de dados feito no *dataset* que possui os seguintes dados:\n",
        "\n",
        "| Coluna          | Descrição                                                                 |\n",
        "|-----------------|---------------------------------------------------------------------------|\n",
        "| id_passageiro   | Identficador único do passageiro.                                         |\n",
        "| classe          | Classe social.                                                            |\n",
        "| sobreviveu      | Sobrevivente? Sim (1), Não (0).                                           |\n",
        "| nome            | Nome do passageiro.                                                       |\n",
        "| sexo            | Masculino (male), Feminino (female).                                      |\n",
        "| idade           | Idade do passageiro.                                                      |\n",
        "| irmaos_conjuges | Número de irmãos e cônjuges a bordo.                                      |\n",
        "| pais_filhos     | Número de pais e filhos a bordo.                                          |\n",
        "| bilhete         | Número do bilhete                                                         |\n",
        "| tarifa          | Preço da tarifa do passageiro.                                            |\n",
        "| cabine          | Cabine.                                                                   |\n",
        "| embarque        | Nome do porto de embarque: C = Cherbourg; Q = Queenstown; S = Southampton |\n",
        "| bote            | Bote salva vidas.                                                         |\n",
        "| corpo           | Número de identificação do corpo.                                         |\n",
        "| destino         | Local de desembarque do passageiro.                                       |\n",
        "\n",
        "## OBSERVAÇÕES\n",
        "\n",
        "- `classe` é uma aproximação do status socioeconômico na época, onde: 1 = Classe Alta1; 2 = Classe Média e 3 = Classe Baixa;\n",
        "- `idade` está representada em anos, porém, se a idade for menor que Um (1) ou caso tenha sido estimada, ela estará com casas decimais xx.5;\n",
        "- `tarifa` está em Libras esterlinas (British Pounds - £) anteriores a 1970;\n",
        "- `irmaos_conjuges` e `pais_filhos`: as variáveis de relação familiar de algumas relações foram ignoradas; a seguir estão as definições usadas:\n",
        "    - **Irmão**: Irmão, irmã, meio-irmão ou meia-irmã do passageiro a bordo do Titanic;\n",
        "    - **Cônjuge**: Marido ou esposa do passageiro a bordo do Titanic (amantes e noivos ignorados);\n",
        "    - **Pai**: Mãe ou pai do passageiro a bordo do Titanic;\n",
        "    - **Criança**: Filho, Filha, Enteado ou Enteada do Passageiro a bordo do Titanic;\n",
        "    - Outros parentes excluídos deste estudo incluem primos, sobrinhos / sobrinhas, tias / tios e parentes;\n",
        "    - Algumas crianças viajavam apenas com uma babá, portanto foi atribuído 0 para elas em pais_filhos; \n",
        "    - Alguns viajaram com amigos ou vizinhos muito próximos em uma vila, no entanto, as definições não apóiam essas relações.\n"
      ]
    },
    {
      "cell_type": "markdown",
      "metadata": {
        "id": "0wcDCVnhbEPq"
      },
      "source": [
        "## 2.1. Configuração do Ambiente"
      ]
    },
    {
      "cell_type": "code",
      "metadata": {
        "id": "XTvpmqmQbEPr"
      },
      "source": [
        "import sys\n",
        "import pandas as pd"
      ],
      "execution_count": 28,
      "outputs": []
    },
    {
      "cell_type": "markdown",
      "metadata": {
        "id": "vZiNnOKPbEPs"
      },
      "source": [
        "## 2.2. Leitura dos Dados"
      ]
    },
    {
      "cell_type": "code",
      "metadata": {
        "id": "wSKr9EoBbEPt"
      },
      "source": [
        "df_titanic = pd.read_csv(\"https://raw.githubusercontent.com/profdiegoaugusto/analise-dados/master/Pandas/titanic-eda/data/titanic3.csv\")"
      ],
      "execution_count": 27,
      "outputs": []
    },
    {
      "cell_type": "markdown",
      "metadata": {
        "id": "YzDD71OjbEPu"
      },
      "source": [
        "## 2.3. Organização e Limpeza dos Dados"
      ]
    },
    {
      "cell_type": "markdown",
      "metadata": {
        "id": "4FtCW2hdbEPw"
      },
      "source": [
        "### 2.3.1. Visão Geral do Conjunto de Dados"
      ]
    },
    {
      "cell_type": "code",
      "metadata": {
        "colab": {
          "base_uri": "https://localhost:8080/"
        },
        "id": "HHFjBTwQbEPx",
        "outputId": "4dc63f0e-af6d-4133-dfc7-3a0cc7c39b92"
      },
      "source": [
        "df_titanic.info()"
      ],
      "execution_count": 29,
      "outputs": [
        {
          "output_type": "stream",
          "name": "stdout",
          "text": [
            "<class 'pandas.core.frame.DataFrame'>\n",
            "RangeIndex: 1309 entries, 0 to 1308\n",
            "Data columns (total 15 columns):\n",
            " #   Column           Non-Null Count  Dtype  \n",
            "---  ------           --------------  -----  \n",
            " 0   id_passageiro    1309 non-null   int64  \n",
            " 1   classe           1309 non-null   int64  \n",
            " 2   sobreviveu       1309 non-null   int64  \n",
            " 3   nome             1309 non-null   object \n",
            " 4   sexo             1309 non-null   object \n",
            " 5   idade            1046 non-null   float64\n",
            " 6   irmaos_conjuges  1309 non-null   int64  \n",
            " 7   pais_filhos      1309 non-null   int64  \n",
            " 8   bilhete          1309 non-null   object \n",
            " 9   tarifa           1308 non-null   float64\n",
            " 10  cabine           295 non-null    object \n",
            " 11  embarque         1307 non-null   object \n",
            " 12  bote             486 non-null    object \n",
            " 13  corpo            121 non-null    float64\n",
            " 14  destino          745 non-null    object \n",
            "dtypes: float64(3), int64(5), object(7)\n",
            "memory usage: 153.5+ KB\n"
          ]
        }
      ]
    },
    {
      "cell_type": "code",
      "metadata": {
        "colab": {
          "base_uri": "https://localhost:8080/"
        },
        "id": "i4AOTF_6bEPx",
        "outputId": "2cc7d589-71ff-47d7-a5f5-685ddb5d2a02"
      },
      "source": [
        "df_titanic.dtypes"
      ],
      "execution_count": 30,
      "outputs": [
        {
          "output_type": "execute_result",
          "data": {
            "text/plain": [
              "id_passageiro        int64\n",
              "classe               int64\n",
              "sobreviveu           int64\n",
              "nome                object\n",
              "sexo                object\n",
              "idade              float64\n",
              "irmaos_conjuges      int64\n",
              "pais_filhos          int64\n",
              "bilhete             object\n",
              "tarifa             float64\n",
              "cabine              object\n",
              "embarque            object\n",
              "bote                object\n",
              "corpo              float64\n",
              "destino             object\n",
              "dtype: object"
            ]
          },
          "metadata": {},
          "execution_count": 30
        }
      ]
    },
    {
      "cell_type": "markdown",
      "metadata": {
        "id": "gjkXhiRebEPy"
      },
      "source": [
        "### 2.3.2 Remoção de Colunas\n",
        "Remoção de colunas incompletas e/ou desnecessárias para a análise."
      ]
    },
    {
      "cell_type": "code",
      "metadata": {
        "colab": {
          "base_uri": "https://localhost:8080/"
        },
        "id": "p5vlX3KMbEPz",
        "outputId": "aa8acf35-4c77-458d-b80b-13fb72253131"
      },
      "source": [
        "df_titanic.drop(columns=['bilhete','id_passageiro', 'cabine', 'bote', 'nome', 'corpo', 'destino'], inplace=True)\n",
        "df_titanic.info()"
      ],
      "execution_count": 31,
      "outputs": [
        {
          "output_type": "stream",
          "name": "stdout",
          "text": [
            "<class 'pandas.core.frame.DataFrame'>\n",
            "RangeIndex: 1309 entries, 0 to 1308\n",
            "Data columns (total 8 columns):\n",
            " #   Column           Non-Null Count  Dtype  \n",
            "---  ------           --------------  -----  \n",
            " 0   classe           1309 non-null   int64  \n",
            " 1   sobreviveu       1309 non-null   int64  \n",
            " 2   sexo             1309 non-null   object \n",
            " 3   idade            1046 non-null   float64\n",
            " 4   irmaos_conjuges  1309 non-null   int64  \n",
            " 5   pais_filhos      1309 non-null   int64  \n",
            " 6   tarifa           1308 non-null   float64\n",
            " 7   embarque         1307 non-null   object \n",
            "dtypes: float64(2), int64(4), object(2)\n",
            "memory usage: 81.9+ KB\n"
          ]
        }
      ]
    },
    {
      "cell_type": "markdown",
      "metadata": {
        "id": "i3-MDXGobEPz"
      },
      "source": [
        "### 2.3.3. Dados Ausentes"
      ]
    },
    {
      "cell_type": "code",
      "metadata": {
        "colab": {
          "base_uri": "https://localhost:8080/"
        },
        "id": "9TtP_0bxbEP0",
        "outputId": "6271c4a5-d7be-4a12-9d85-81b364a9110b"
      },
      "source": [
        "df_titanic.isna().sum()"
      ],
      "execution_count": null,
      "outputs": [
        {
          "output_type": "execute_result",
          "data": {
            "text/plain": [
              "classe               0\n",
              "sobreviveu           0\n",
              "sexo                 0\n",
              "idade              263\n",
              "irmaos_conjuges      0\n",
              "pais_filhos          0\n",
              "tarifa               1\n",
              "embarque             2\n",
              "dtype: int64"
            ]
          },
          "metadata": {},
          "execution_count": 13
        }
      ]
    },
    {
      "cell_type": "markdown",
      "metadata": {
        "id": "DzD60EGhbEP0"
      },
      "source": [
        "#### 2.3.3.1 Idades Ausentes\n",
        "Para os dados ausentes da coluna `idade` será feita a substituição dos dados vazios pela média das idades na época."
      ]
    },
    {
      "cell_type": "code",
      "metadata": {
        "colab": {
          "base_uri": "https://localhost:8080/"
        },
        "id": "8mY4aGHjbEP1",
        "outputId": "86d5cc1d-dddf-4c95-d650-1f75400cdc6b"
      },
      "source": [
        "avg_age = df_titanic.dropna(subset=['idade']).idade.mean()\n",
        "df_titanic['idade'].fillna(avg_age, inplace=True)\n",
        "df_titanic.info()"
      ],
      "execution_count": null,
      "outputs": [
        {
          "output_type": "stream",
          "name": "stdout",
          "text": [
            "<class 'pandas.core.frame.DataFrame'>\n",
            "RangeIndex: 1309 entries, 0 to 1308\n",
            "Data columns (total 8 columns):\n",
            " #   Column           Non-Null Count  Dtype  \n",
            "---  ------           --------------  -----  \n",
            " 0   classe           1309 non-null   int64  \n",
            " 1   sobreviveu       1309 non-null   int64  \n",
            " 2   sexo             1309 non-null   object \n",
            " 3   idade            1309 non-null   float64\n",
            " 4   irmaos_conjuges  1309 non-null   int64  \n",
            " 5   pais_filhos      1309 non-null   int64  \n",
            " 6   tarifa           1308 non-null   float64\n",
            " 7   embarque         1307 non-null   object \n",
            "dtypes: float64(2), int64(4), object(2)\n",
            "memory usage: 81.9+ KB\n"
          ]
        }
      ]
    },
    {
      "cell_type": "markdown",
      "metadata": {
        "id": "8y1Kw6nlbEP1"
      },
      "source": [
        "#### 2.3.3.2 Tarifas Ausentes\n",
        "Para os dados ausentes da coluna `tarifa`será feita a substituição dos dados vazios pela média de preço das tarifas na época."
      ]
    },
    {
      "cell_type": "code",
      "metadata": {
        "colab": {
          "base_uri": "https://localhost:8080/"
        },
        "id": "uLo_z5YjbEP2",
        "outputId": "32fe39d1-08b9-4a73-c2b6-cfa8bfe65427"
      },
      "source": [
        "df_titanic['tarifa'] = df_titanic['tarifa'].fillna(df_titanic['tarifa'].mean())\n",
        "df_titanic.info()"
      ],
      "execution_count": null,
      "outputs": [
        {
          "output_type": "stream",
          "name": "stdout",
          "text": [
            "<class 'pandas.core.frame.DataFrame'>\n",
            "Int64Index: 1307 entries, 0 to 1308\n",
            "Data columns (total 8 columns):\n",
            " #   Column           Non-Null Count  Dtype  \n",
            "---  ------           --------------  -----  \n",
            " 0   classe           1307 non-null   int64  \n",
            " 1   sobreviveu       1307 non-null   int64  \n",
            " 2   sexo             1307 non-null   object \n",
            " 3   idade            1307 non-null   float64\n",
            " 4   irmaos_conjuges  1307 non-null   int64  \n",
            " 5   pais_filhos      1307 non-null   int64  \n",
            " 6   tarifa           1307 non-null   float64\n",
            " 7   embarque         1307 non-null   object \n",
            "dtypes: float64(2), int64(4), object(2)\n",
            "memory usage: 91.9+ KB\n"
          ]
        }
      ]
    },
    {
      "cell_type": "markdown",
      "metadata": {
        "id": "tTmIPRaTbEP2"
      },
      "source": [
        "#### 2.3.3.3 Portos de Embarque Ausentes\n",
        "Para os dados ausentes da coluna `embarque`será feita a remoção dos dados vazios."
      ]
    },
    {
      "cell_type": "code",
      "metadata": {
        "colab": {
          "base_uri": "https://localhost:8080/"
        },
        "id": "ucOD49_AbEP3",
        "outputId": "e5e1725d-62bc-4b66-ae84-b9933159c4ca"
      },
      "source": [
        "df_titanic.dropna(subset=['embarque'], inplace=True)\n",
        "df_titanic.info()"
      ],
      "execution_count": 32,
      "outputs": [
        {
          "output_type": "stream",
          "name": "stdout",
          "text": [
            "<class 'pandas.core.frame.DataFrame'>\n",
            "Int64Index: 1307 entries, 0 to 1308\n",
            "Data columns (total 8 columns):\n",
            " #   Column           Non-Null Count  Dtype  \n",
            "---  ------           --------------  -----  \n",
            " 0   classe           1307 non-null   int64  \n",
            " 1   sobreviveu       1307 non-null   int64  \n",
            " 2   sexo             1307 non-null   object \n",
            " 3   idade            1044 non-null   float64\n",
            " 4   irmaos_conjuges  1307 non-null   int64  \n",
            " 5   pais_filhos      1307 non-null   int64  \n",
            " 6   tarifa           1306 non-null   float64\n",
            " 7   embarque         1307 non-null   object \n",
            "dtypes: float64(2), int64(4), object(2)\n",
            "memory usage: 91.9+ KB\n"
          ]
        }
      ]
    },
    {
      "cell_type": "markdown",
      "metadata": {
        "id": "qqn8hMSAbEP3"
      },
      "source": [
        "## 2.4. Mapeamento de Dados\n",
        "Para melhorar a análise e interpretação dos dados os seguintes atributos serão modificados:\n",
        "\n",
        "| Coluna    | Original     | Modificado                          |\n",
        "|:----------|:-------------|:------------------------------------|\n",
        "| Classe    | 1, 2, 3      | Alta, Média, Baixa                  |\n",
        "| Sexo      | male, female | M, F                                |\n",
        "| Embarque  | C, Q, S      | Cherbourg, Queenstown, Southampton  |\n"
      ]
    },
    {
      "cell_type": "code",
      "metadata": {
        "id": "uhsaXCN9bEP4",
        "colab": {
          "base_uri": "https://localhost:8080/",
          "height": 206
        },
        "outputId": "db1b142d-5cd6-4f3c-c0fb-7540b5c6e800"
      },
      "source": [
        "#Classe\n",
        "df_titanic = df_titanic.replace({'classe' : {1 : 'Alta', 2 : 'Media', 3 : 'Baixa'}})\n",
        "\n",
        "#Sexo\n",
        "df_titanic = df_titanic.replace({'sexo': {'male' : 'M', 'female' : 'F'}})\n",
        "\n",
        "#Embarque\n",
        "df_titanic = df_titanic.replace({'embarque' : {'C' : 'Cherbourg', 'Q' : 'Queenstown', 'S' : 'Southampton'}})\n",
        "\n",
        "df_titanic.head(5)"
      ],
      "execution_count": 47,
      "outputs": [
        {
          "output_type": "execute_result",
          "data": {
            "text/html": [
              "<div>\n",
              "<style scoped>\n",
              "    .dataframe tbody tr th:only-of-type {\n",
              "        vertical-align: middle;\n",
              "    }\n",
              "\n",
              "    .dataframe tbody tr th {\n",
              "        vertical-align: top;\n",
              "    }\n",
              "\n",
              "    .dataframe thead th {\n",
              "        text-align: right;\n",
              "    }\n",
              "</style>\n",
              "<table border=\"1\" class=\"dataframe\">\n",
              "  <thead>\n",
              "    <tr style=\"text-align: right;\">\n",
              "      <th></th>\n",
              "      <th>classe</th>\n",
              "      <th>sobreviveu</th>\n",
              "      <th>sexo</th>\n",
              "      <th>idade</th>\n",
              "      <th>irmaos_conjuges</th>\n",
              "      <th>pais_filhos</th>\n",
              "      <th>tarifa</th>\n",
              "      <th>embarque</th>\n",
              "      <th>total_parentes</th>\n",
              "      <th>faixa_etaria</th>\n",
              "    </tr>\n",
              "  </thead>\n",
              "  <tbody>\n",
              "    <tr>\n",
              "      <th>0</th>\n",
              "      <td>Alta</td>\n",
              "      <td>1</td>\n",
              "      <td>F</td>\n",
              "      <td>29.0</td>\n",
              "      <td>0</td>\n",
              "      <td>0</td>\n",
              "      <td>211.3375</td>\n",
              "      <td>Southampton</td>\n",
              "      <td>0</td>\n",
              "      <td>adulto</td>\n",
              "    </tr>\n",
              "    <tr>\n",
              "      <th>1</th>\n",
              "      <td>Alta</td>\n",
              "      <td>1</td>\n",
              "      <td>M</td>\n",
              "      <td>1.0</td>\n",
              "      <td>1</td>\n",
              "      <td>2</td>\n",
              "      <td>151.5500</td>\n",
              "      <td>Southampton</td>\n",
              "      <td>3</td>\n",
              "      <td>criança</td>\n",
              "    </tr>\n",
              "    <tr>\n",
              "      <th>2</th>\n",
              "      <td>Alta</td>\n",
              "      <td>0</td>\n",
              "      <td>F</td>\n",
              "      <td>2.0</td>\n",
              "      <td>1</td>\n",
              "      <td>2</td>\n",
              "      <td>151.5500</td>\n",
              "      <td>Southampton</td>\n",
              "      <td>3</td>\n",
              "      <td>criança</td>\n",
              "    </tr>\n",
              "    <tr>\n",
              "      <th>3</th>\n",
              "      <td>Alta</td>\n",
              "      <td>0</td>\n",
              "      <td>M</td>\n",
              "      <td>30.0</td>\n",
              "      <td>1</td>\n",
              "      <td>2</td>\n",
              "      <td>151.5500</td>\n",
              "      <td>Southampton</td>\n",
              "      <td>3</td>\n",
              "      <td>adulto</td>\n",
              "    </tr>\n",
              "    <tr>\n",
              "      <th>4</th>\n",
              "      <td>Alta</td>\n",
              "      <td>0</td>\n",
              "      <td>F</td>\n",
              "      <td>25.0</td>\n",
              "      <td>1</td>\n",
              "      <td>2</td>\n",
              "      <td>151.5500</td>\n",
              "      <td>Southampton</td>\n",
              "      <td>3</td>\n",
              "      <td>adulto</td>\n",
              "    </tr>\n",
              "  </tbody>\n",
              "</table>\n",
              "</div>"
            ],
            "text/plain": [
              "  classe  sobreviveu sexo  ...     embarque  total_parentes  faixa_etaria\n",
              "0   Alta           1    F  ...  Southampton               0        adulto\n",
              "1   Alta           1    M  ...  Southampton               3       criança\n",
              "2   Alta           0    F  ...  Southampton               3       criança\n",
              "3   Alta           0    M  ...  Southampton               3        adulto\n",
              "4   Alta           0    F  ...  Southampton               3        adulto\n",
              "\n",
              "[5 rows x 10 columns]"
            ]
          },
          "metadata": {},
          "execution_count": 47
        }
      ]
    },
    {
      "cell_type": "markdown",
      "metadata": {
        "id": "c7Wb4fTsbEP4"
      },
      "source": [
        "## 2.5.  Feature Engineering\n",
        "\n",
        "A engenharia de recursos (*Feature Engineering*) é o processo de usar o conhecimento do domínio para extrair recursos dos dados brutos. Neste estudo serão acrescentadas as seguintes colunas para enriquecer a análise de dados:\n",
        "\n",
        "| Coluna         | Descrição                                                         |\n",
        "|:---------------|:------------------------------------------------------------------|\n",
        "| total_parentes | Número total de parentes a bordo: `irmaos_conjuges + pais_filhos` |\n",
        "| faixa_etaria   | Intervalo de idades dos passageiros.                              |"
      ]
    },
    {
      "cell_type": "markdown",
      "metadata": {
        "id": "FN79KmxhbEP5"
      },
      "source": [
        "### 2.5.1 Total de Parentes"
      ]
    },
    {
      "cell_type": "code",
      "metadata": {
        "id": "Smndh6EYbEP5",
        "colab": {
          "base_uri": "https://localhost:8080/"
        },
        "outputId": "3dad0081-7c88-44ce-fbda-feafb00c3c67"
      },
      "source": [
        "df_titanic['total_parentes'] = df_titanic['irmaos_conjuges'] + df_titanic['pais_filhos']\n",
        "df_titanic.head(10)"
      ],
      "execution_count": 36,
      "outputs": [
        {
          "output_type": "execute_result",
          "data": {
            "text/plain": [
              "0       0\n",
              "1       3\n",
              "2       3\n",
              "3       3\n",
              "4       3\n",
              "       ..\n",
              "1304    1\n",
              "1305    1\n",
              "1306    0\n",
              "1307    0\n",
              "1308    0\n",
              "Name: total_parentes, Length: 1307, dtype: int64"
            ]
          },
          "metadata": {},
          "execution_count": 36
        }
      ]
    },
    {
      "cell_type": "markdown",
      "metadata": {
        "id": "fk-Tv2xLbEP6"
      },
      "source": [
        "### 2.5.2 Faixas Etárias"
      ]
    },
    {
      "cell_type": "code",
      "metadata": {
        "id": "EZFbmn_hbEP6",
        "colab": {
          "base_uri": "https://localhost:8080/",
          "height": 363
        },
        "outputId": "61b7a31e-ce06-4fa6-b8d2-2879789fdb5a"
      },
      "source": [
        "df_titanic['faixa_etaria'] = pd.cut( df_titanic['idade'], bins = [0, 13, 19, 61, sys.maxsize], labels = ['criança', 'adolescente', 'adulto', 'idoso'])\n",
        "df_titanic.head(10)"
      ],
      "execution_count": 56,
      "outputs": [
        {
          "output_type": "execute_result",
          "data": {
            "text/html": [
              "<div>\n",
              "<style scoped>\n",
              "    .dataframe tbody tr th:only-of-type {\n",
              "        vertical-align: middle;\n",
              "    }\n",
              "\n",
              "    .dataframe tbody tr th {\n",
              "        vertical-align: top;\n",
              "    }\n",
              "\n",
              "    .dataframe thead th {\n",
              "        text-align: right;\n",
              "    }\n",
              "</style>\n",
              "<table border=\"1\" class=\"dataframe\">\n",
              "  <thead>\n",
              "    <tr style=\"text-align: right;\">\n",
              "      <th></th>\n",
              "      <th>classe</th>\n",
              "      <th>sobreviveu</th>\n",
              "      <th>sexo</th>\n",
              "      <th>idade</th>\n",
              "      <th>irmaos_conjuges</th>\n",
              "      <th>pais_filhos</th>\n",
              "      <th>tarifa</th>\n",
              "      <th>embarque</th>\n",
              "      <th>total_parentes</th>\n",
              "      <th>faixa_etaria</th>\n",
              "    </tr>\n",
              "  </thead>\n",
              "  <tbody>\n",
              "    <tr>\n",
              "      <th>0</th>\n",
              "      <td>Alta</td>\n",
              "      <td>1</td>\n",
              "      <td>F</td>\n",
              "      <td>29.0</td>\n",
              "      <td>0</td>\n",
              "      <td>0</td>\n",
              "      <td>211.3375</td>\n",
              "      <td>Southampton</td>\n",
              "      <td>0</td>\n",
              "      <td>adulto</td>\n",
              "    </tr>\n",
              "    <tr>\n",
              "      <th>1</th>\n",
              "      <td>Alta</td>\n",
              "      <td>1</td>\n",
              "      <td>M</td>\n",
              "      <td>1.0</td>\n",
              "      <td>1</td>\n",
              "      <td>2</td>\n",
              "      <td>151.5500</td>\n",
              "      <td>Southampton</td>\n",
              "      <td>3</td>\n",
              "      <td>criança</td>\n",
              "    </tr>\n",
              "    <tr>\n",
              "      <th>2</th>\n",
              "      <td>Alta</td>\n",
              "      <td>0</td>\n",
              "      <td>F</td>\n",
              "      <td>2.0</td>\n",
              "      <td>1</td>\n",
              "      <td>2</td>\n",
              "      <td>151.5500</td>\n",
              "      <td>Southampton</td>\n",
              "      <td>3</td>\n",
              "      <td>criança</td>\n",
              "    </tr>\n",
              "    <tr>\n",
              "      <th>3</th>\n",
              "      <td>Alta</td>\n",
              "      <td>0</td>\n",
              "      <td>M</td>\n",
              "      <td>30.0</td>\n",
              "      <td>1</td>\n",
              "      <td>2</td>\n",
              "      <td>151.5500</td>\n",
              "      <td>Southampton</td>\n",
              "      <td>3</td>\n",
              "      <td>adulto</td>\n",
              "    </tr>\n",
              "    <tr>\n",
              "      <th>4</th>\n",
              "      <td>Alta</td>\n",
              "      <td>0</td>\n",
              "      <td>F</td>\n",
              "      <td>25.0</td>\n",
              "      <td>1</td>\n",
              "      <td>2</td>\n",
              "      <td>151.5500</td>\n",
              "      <td>Southampton</td>\n",
              "      <td>3</td>\n",
              "      <td>adulto</td>\n",
              "    </tr>\n",
              "    <tr>\n",
              "      <th>5</th>\n",
              "      <td>Alta</td>\n",
              "      <td>1</td>\n",
              "      <td>M</td>\n",
              "      <td>48.0</td>\n",
              "      <td>0</td>\n",
              "      <td>0</td>\n",
              "      <td>26.5500</td>\n",
              "      <td>Southampton</td>\n",
              "      <td>0</td>\n",
              "      <td>adulto</td>\n",
              "    </tr>\n",
              "    <tr>\n",
              "      <th>6</th>\n",
              "      <td>Alta</td>\n",
              "      <td>1</td>\n",
              "      <td>F</td>\n",
              "      <td>63.0</td>\n",
              "      <td>1</td>\n",
              "      <td>0</td>\n",
              "      <td>77.9583</td>\n",
              "      <td>Southampton</td>\n",
              "      <td>1</td>\n",
              "      <td>idoso</td>\n",
              "    </tr>\n",
              "    <tr>\n",
              "      <th>7</th>\n",
              "      <td>Alta</td>\n",
              "      <td>0</td>\n",
              "      <td>M</td>\n",
              "      <td>39.0</td>\n",
              "      <td>0</td>\n",
              "      <td>0</td>\n",
              "      <td>0.0000</td>\n",
              "      <td>Southampton</td>\n",
              "      <td>0</td>\n",
              "      <td>adulto</td>\n",
              "    </tr>\n",
              "    <tr>\n",
              "      <th>8</th>\n",
              "      <td>Alta</td>\n",
              "      <td>1</td>\n",
              "      <td>F</td>\n",
              "      <td>53.0</td>\n",
              "      <td>2</td>\n",
              "      <td>0</td>\n",
              "      <td>51.4792</td>\n",
              "      <td>Southampton</td>\n",
              "      <td>2</td>\n",
              "      <td>adulto</td>\n",
              "    </tr>\n",
              "    <tr>\n",
              "      <th>9</th>\n",
              "      <td>Alta</td>\n",
              "      <td>0</td>\n",
              "      <td>M</td>\n",
              "      <td>71.0</td>\n",
              "      <td>0</td>\n",
              "      <td>0</td>\n",
              "      <td>49.5042</td>\n",
              "      <td>Cherbourg</td>\n",
              "      <td>0</td>\n",
              "      <td>idoso</td>\n",
              "    </tr>\n",
              "  </tbody>\n",
              "</table>\n",
              "</div>"
            ],
            "text/plain": [
              "  classe  sobreviveu sexo  ...     embarque  total_parentes  faixa_etaria\n",
              "0   Alta           1    F  ...  Southampton               0        adulto\n",
              "1   Alta           1    M  ...  Southampton               3       criança\n",
              "2   Alta           0    F  ...  Southampton               3       criança\n",
              "3   Alta           0    M  ...  Southampton               3        adulto\n",
              "4   Alta           0    F  ...  Southampton               3        adulto\n",
              "5   Alta           1    M  ...  Southampton               0        adulto\n",
              "6   Alta           1    F  ...  Southampton               1         idoso\n",
              "7   Alta           0    M  ...  Southampton               0        adulto\n",
              "8   Alta           1    F  ...  Southampton               2        adulto\n",
              "9   Alta           0    M  ...    Cherbourg               0         idoso\n",
              "\n",
              "[10 rows x 10 columns]"
            ]
          },
          "metadata": {},
          "execution_count": 56
        }
      ]
    },
    {
      "cell_type": "markdown",
      "metadata": {
        "id": "JRqd98NwbEP7"
      },
      "source": [
        "# 3. Análise dos Dados"
      ]
    },
    {
      "cell_type": "markdown",
      "metadata": {
        "id": "lT3dnWJibEP7"
      },
      "source": [
        "## 3.1. Qual é o número de Sobreviventes?"
      ]
    },
    {
      "cell_type": "code",
      "metadata": {
        "id": "gNKlZnCVbEP7",
        "colab": {
          "base_uri": "https://localhost:8080/"
        },
        "outputId": "9cd88730-fcc2-4ce3-bbf9-ce621037dcda"
      },
      "source": [
        "sobreviventes = df_titanic.loc[df_titanic['sobreviveu'] == 1]\n",
        "print(len(sobreviventes), \"pessoas sobreviveram\")"
      ],
      "execution_count": 53,
      "outputs": [
        {
          "output_type": "stream",
          "name": "stdout",
          "text": [
            "498 pessoas sobreviveram\n"
          ]
        }
      ]
    },
    {
      "cell_type": "markdown",
      "metadata": {
        "id": "SWvnvYetbEP8"
      },
      "source": [
        "## 3.2. Homens ou mulheres tiveram mais chances de sobreviver?"
      ]
    },
    {
      "cell_type": "code",
      "metadata": {
        "id": "ncZ6faLYbEP8",
        "colab": {
          "base_uri": "https://localhost:8080/"
        },
        "outputId": "68e11344-0086-42b7-f689-ec00f0b936f9"
      },
      "source": [
        "pd.value_counts(sobreviventes['sexo'])"
      ],
      "execution_count": 54,
      "outputs": [
        {
          "output_type": "execute_result",
          "data": {
            "text/plain": [
              "F    337\n",
              "M    161\n",
              "Name: sexo, dtype: int64"
            ]
          },
          "metadata": {},
          "execution_count": 54
        }
      ]
    },
    {
      "cell_type": "markdown",
      "metadata": {
        "id": "i4I_QFe_bEP8"
      },
      "source": [
        "## 3.3. Qual classe social teve mais sobreviventes?"
      ]
    },
    {
      "cell_type": "code",
      "metadata": {
        "id": "6xTLZhIrbEP9",
        "colab": {
          "base_uri": "https://localhost:8080/"
        },
        "outputId": "755ee850-c820-4f16-9e96-786d6097d4ce"
      },
      "source": [
        "pd.value_counts(sobreviventes['classe'])"
      ],
      "execution_count": 55,
      "outputs": [
        {
          "output_type": "execute_result",
          "data": {
            "text/plain": [
              "Alta     198\n",
              "Baixa    181\n",
              "Media    119\n",
              "Name: classe, dtype: int64"
            ]
          },
          "metadata": {},
          "execution_count": 55
        }
      ]
    },
    {
      "cell_type": "markdown",
      "metadata": {
        "id": "GvbD87yubEP9"
      },
      "source": [
        "## 3.4. Qual faixa etária teve mais chances de sobreviver?"
      ]
    },
    {
      "cell_type": "code",
      "metadata": {
        "id": "b3LbQa1DbEP9",
        "colab": {
          "base_uri": "https://localhost:8080/"
        },
        "outputId": "15431981-4f62-46bd-d7a4-2e0547b8a9d2"
      },
      "source": [
        "pd.value_counts(sobreviventes['faixa_etaria'])"
      ],
      "execution_count": 60,
      "outputs": [
        {
          "output_type": "execute_result",
          "data": {
            "text/plain": [
              "adulto         312\n",
              "criança         55\n",
              "adolescente     49\n",
              "idoso            7\n",
              "Name: faixa_etaria, dtype: int64"
            ]
          },
          "metadata": {},
          "execution_count": 60
        }
      ]
    },
    {
      "cell_type": "code",
      "metadata": {
        "id": "75af4VXcbEP-",
        "colab": {
          "base_uri": "https://localhost:8080/"
        },
        "outputId": "0950cf4f-d4e0-4faf-9e1b-5fb06cbbdbdb"
      },
      "source": [
        "pd.value_counts(df_titanic['faixa_etaria'])"
      ],
      "execution_count": 58,
      "outputs": [
        {
          "output_type": "execute_result",
          "data": {
            "text/plain": [
              "adulto         793\n",
              "adolescente    126\n",
              "criança         96\n",
              "idoso           26\n",
              "Name: faixa_etaria, dtype: int64"
            ]
          },
          "metadata": {},
          "execution_count": 58
        }
      ]
    },
    {
      "cell_type": "markdown",
      "metadata": {
        "id": "W-a8Pg8ibEP-"
      },
      "source": [
        "# REFERÊNCIAS\n",
        "\n",
        "- [Titanic: Machine Learning from Disaster](https://www.kaggle.com/c/titanic/data)\n",
        "- [Encyclopedia Titanica](https://www.encyclopedia-titanica.org/)\n",
        "- [Basic Feature Engineering with the Titanic Data](https://triangleinequality.wordpress.com/2013/09/08/basic-feature-engineering-with-the-titanic-data/)\n",
        "- Hind, Philip.  \"Encyclopedia Titanica.\"  Online.  Internet. n.p.  02 Aug 1999."
      ]
    }
  ]
}